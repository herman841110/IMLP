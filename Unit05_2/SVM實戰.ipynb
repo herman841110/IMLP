{
 "cells": [
  {
   "cell_type": "markdown",
   "metadata": {},
   "source": [
    "# 乳癌資料庫預測SVM分類\n",
    ">使用scikit-learn 機器學習套件裡的SVR演算法\n",
    "\n",
    "* (一)引入函式庫及內建乳癌資料集<br>\n",
    "引入之函式庫如下<br>\n",
    "sklearn.datasets: 用來匯入內建之乳癌資料集`datasets.load_breast_cancer()`<br>\n",
    "sklearn.SVR: 支持向量機回歸分析之演算法<br>\n",
    "matplotlib.pyplot: 用來繪製影像"
   ]
  },
  {
   "cell_type": "code",
   "execution_count": 1,
   "metadata": {},
   "outputs": [],
   "source": [
    "from sklearn import svm\n",
    "from sklearn import datasets\n",
    "from sklearn.model_selection import train_test_split\n",
    "from sklearn.metrics import accuracy_score\n",
    "import matplotlib.pyplot as plt\n",
    "import numpy as np"
   ]
  },
  {
   "cell_type": "markdown",
   "metadata": {},
   "source": [
    "## Step1. 下載資料"
   ]
  },
  {
   "cell_type": "code",
   "execution_count": 3,
   "metadata": {},
   "outputs": [],
   "source": [
    "breast_cancer=datasets.load_breast_cancer()\n",
    "\n",
    "data=breast_cancer.data\n",
    "target=breast_cancer.target\n",
    "\n",
    "# print(X,y)\n",
    "# breast_cancer.target_names\n",
    "# breast_cancer.feature_names\n",
    "\n",
    "# print(len(X[:]))\n",
    "# a=(breast_cancer.target)\n",
    "# b=(breast_cancer.feature_names)\n",
    "# print(a,b)"
   ]
  },
  {
   "cell_type": "code",
   "execution_count": 4,
   "metadata": {},
   "outputs": [
    {
     "data": {
      "text/plain": [
       "array([[ 13.54 , 566.3  ],\n",
       "       [ 13.08 , 520.   ],\n",
       "       [  9.504, 273.9  ],\n",
       "       [ 13.03 , 523.8  ],\n",
       "       [  8.196, 201.9  ],\n",
       "       [ 12.05 , 449.3  ],\n",
       "       [ 13.49 , 561.   ],\n",
       "       [ 11.76 , 427.9  ],\n",
       "       [ 13.64 , 571.8  ],\n",
       "       [ 11.94 , 437.6  ],\n",
       "       [ 11.52 , 409.   ],\n",
       "       [ 13.05 , 527.2  ],\n",
       "       [  8.618, 224.5  ],\n",
       "       [ 10.17 , 311.9  ],\n",
       "       [  8.598, 221.8  ],\n",
       "       [  9.173, 260.9  ],\n",
       "       [  9.465, 269.4  ],\n",
       "       [ 11.31 , 394.1  ],\n",
       "       [  9.029, 250.5  ],\n",
       "       [ 12.78 , 502.5  ],\n",
       "       [  8.888, 244.   ],\n",
       "       [ 12.31 , 470.9  ],\n",
       "       [ 13.53 , 559.2  ],\n",
       "       [ 12.86 , 506.3  ],\n",
       "       [ 11.45 , 401.5  ],\n",
       "       [ 13.34 , 520.   ],\n",
       "       [ 12.   , 443.3  ],\n",
       "       [ 12.36 , 466.1  ],\n",
       "       [ 14.64 , 651.9  ],\n",
       "       [ 14.62 , 662.7  ],\n",
       "       [ 13.27 , 551.7  ],\n",
       "       [ 13.45 , 555.1  ],\n",
       "       [ 12.18 , 451.1  ],\n",
       "       [  9.787, 294.5  ],\n",
       "       [ 11.6  , 412.6  ],\n",
       "       [  6.981, 143.5  ],\n",
       "       [ 12.18 , 458.7  ],\n",
       "       [  9.876, 298.3  ],\n",
       "       [ 10.49 , 336.1  ],\n",
       "       [ 11.64 , 412.5  ],\n",
       "       [ 12.36 , 466.7  ],\n",
       "       [ 11.34 , 396.5  ],\n",
       "       [  9.777, 290.2  ],\n",
       "       [ 12.63 , 480.4  ],\n",
       "       [ 14.26 , 629.9  ],\n",
       "       [ 10.51 , 334.2  ],\n",
       "       [  8.726, 230.9  ],\n",
       "       [ 11.93 , 438.6  ],\n",
       "       [  8.95 , 245.2  ],\n",
       "       [ 11.41 , 403.3  ],\n",
       "       [ 14.5  , 640.7  ],\n",
       "       [ 13.37 , 553.5  ],\n",
       "       [ 13.85 , 588.7  ],\n",
       "       [ 15.1  , 674.5  ],\n",
       "       [ 12.19 , 455.8  ],\n",
       "       [ 15.71 , 761.7  ],\n",
       "       [ 11.71 , 423.6  ],\n",
       "       [ 11.43 , 399.8  ],\n",
       "       [ 11.28 , 384.8  ],\n",
       "       [  9.738, 288.5  ],\n",
       "       [ 11.43 , 398.   ],\n",
       "       [ 12.9  , 512.2  ],\n",
       "       [ 10.75 , 355.3  ],\n",
       "       [ 11.9  , 432.8  ],\n",
       "       [ 14.95 , 689.5  ],\n",
       "       [ 14.44 , 640.1  ],\n",
       "       [ 13.74 , 585.   ],\n",
       "       [ 13.   , 519.4  ],\n",
       "       [  8.219, 203.9  ],\n",
       "       [  9.731, 300.2  ],\n",
       "       [ 11.15 , 381.9  ],\n",
       "       [ 13.15 , 538.9  ],\n",
       "       [ 12.25 , 460.3  ],\n",
       "       [ 16.84 , 880.2  ],\n",
       "       [ 12.06 , 448.6  ],\n",
       "       [ 10.9  , 366.8  ],\n",
       "       [ 11.75 , 419.8  ],\n",
       "       [ 12.34 , 464.5  ],\n",
       "       [ 14.97 , 690.2  ],\n",
       "       [ 10.8  , 357.6  ],\n",
       "       [ 14.97 , 685.9  ],\n",
       "       [ 12.32 , 464.1  ],\n",
       "       [ 11.08 , 372.7  ],\n",
       "       [ 10.66 , 349.6  ],\n",
       "       [  8.671, 227.2  ],\n",
       "       [  9.904, 302.4  ],\n",
       "       [ 13.01 , 526.4  ],\n",
       "       [ 12.81 , 508.8  ],\n",
       "       [ 11.41 , 402.   ],\n",
       "       [ 10.08 , 317.5  ],\n",
       "       [ 11.71 , 420.3  ],\n",
       "       [ 11.81 , 428.9  ],\n",
       "       [ 12.3  , 463.7  ],\n",
       "       [ 12.77 , 507.4  ],\n",
       "       [  9.72 , 288.1  ],\n",
       "       [ 12.91 , 516.4  ],\n",
       "       [ 12.23 , 461.   ],\n",
       "       [ 12.47 , 481.9  ],\n",
       "       [  9.876, 295.4  ],\n",
       "       [ 13.11 , 529.4  ],\n",
       "       [ 15.27 , 725.5  ],\n",
       "       [ 11.84 , 428.   ],\n",
       "       [ 11.89 , 432.2  ],\n",
       "       [ 10.2  , 321.2  ],\n",
       "       [ 13.65 , 568.9  ],\n",
       "       [ 13.56 , 561.3  ],\n",
       "       [ 10.18 , 313.1  ],\n",
       "       [ 13.27 , 546.4  ],\n",
       "       [ 14.34 , 641.2  ],\n",
       "       [ 10.44 , 329.6  ],\n",
       "       [ 15.   , 684.5  ],\n",
       "       [ 12.62 , 496.4  ],\n",
       "       [ 11.32 , 395.7  ],\n",
       "       [ 11.22 , 386.8  ],\n",
       "       [  9.567, 279.6  ],\n",
       "       [ 14.03 , 603.4  ],\n",
       "       [ 14.22 , 623.9  ],\n",
       "       [ 13.64 , 575.3  ],\n",
       "       [ 12.42 , 476.5  ],\n",
       "       [ 11.3  , 389.4  ],\n",
       "       [ 13.75 , 590.   ],\n",
       "       [ 10.48 , 337.7  ],\n",
       "       [ 13.2  , 541.6  ],\n",
       "       [ 12.89 , 512.2  ],\n",
       "       [ 10.65 , 347.   ],\n",
       "       [ 11.52 , 406.3  ],\n",
       "       [ 11.5  , 407.4  ],\n",
       "       [ 10.6  , 346.4  ],\n",
       "       [ 13.59 , 561.   ],\n",
       "       [ 12.87 , 512.2  ],\n",
       "       [ 10.71 , 344.9  ],\n",
       "       [ 14.29 , 632.6  ],\n",
       "       [ 11.29 , 388.   ],\n",
       "       [  9.742, 289.9  ],\n",
       "       [ 11.89 , 435.6  ],\n",
       "       [ 11.33 , 396.6  ],\n",
       "       [ 13.59 , 572.3  ],\n",
       "       [ 13.85 , 587.4  ],\n",
       "       [ 11.74 , 427.3  ],\n",
       "       [ 12.89 , 516.6  ],\n",
       "       [ 12.58 , 489.   ],\n",
       "       [ 11.94 , 441.   ],\n",
       "       [ 12.89 , 515.9  ],\n",
       "       [ 11.26 , 394.1  ],\n",
       "       [ 11.37 , 396.   ],\n",
       "       [ 14.41 , 651.   ],\n",
       "       [ 14.96 , 687.3  ],\n",
       "       [ 12.95 , 513.7  ],\n",
       "       [ 11.85 , 432.7  ],\n",
       "       [ 12.72 , 492.1  ],\n",
       "       [ 13.77 , 582.7  ],\n",
       "       [ 10.91 , 363.7  ],\n",
       "       [ 14.26 , 633.1  ],\n",
       "       [ 10.51 , 334.2  ],\n",
       "       [ 12.46 , 471.3  ],\n",
       "       [ 10.49 , 334.3  ],\n",
       "       [ 11.46 , 403.1  ],\n",
       "       [ 11.6  , 417.2  ],\n",
       "       [ 13.2  , 537.3  ],\n",
       "       [  9.   , 246.3  ],\n",
       "       [ 13.5  , 566.2  ],\n",
       "       [ 13.05 , 530.6  ],\n",
       "       [ 11.7  , 418.7  ],\n",
       "       [ 14.61 , 664.9  ],\n",
       "       [ 12.76 , 504.1  ],\n",
       "       [ 11.54 , 409.1  ],\n",
       "       [  8.597, 221.2  ],\n",
       "       [ 12.49 , 481.6  ],\n",
       "       [ 12.18 , 461.4  ],\n",
       "       [  9.042, 244.5  ],\n",
       "       [ 12.43 , 477.3  ],\n",
       "       [ 10.25 , 324.2  ],\n",
       "       [ 12.86 , 504.8  ],\n",
       "       [ 12.2  , 457.9  ],\n",
       "       [ 12.67 , 489.9  ],\n",
       "       [ 14.11 , 616.5  ],\n",
       "       [ 12.03 , 446.   ],\n",
       "       [ 12.98 , 514.   ],\n",
       "       [ 11.22 , 387.3  ],\n",
       "       [ 11.25 , 390.   ],\n",
       "       [ 12.3  , 464.4  ],\n",
       "       [ 12.99 , 514.3  ],\n",
       "       [ 10.05 , 310.8  ],\n",
       "       [ 14.42 , 641.2  ],\n",
       "       [  9.606, 280.5  ],\n",
       "       [ 11.06 , 373.9  ],\n",
       "       [ 11.71 , 420.3  ],\n",
       "       [ 10.26 , 321.6  ],\n",
       "       [ 12.06 , 445.3  ],\n",
       "       [ 14.76 , 668.7  ],\n",
       "       [ 11.47 , 402.7  ],\n",
       "       [ 11.95 , 426.7  ],\n",
       "       [ 11.66 , 421.   ],\n",
       "       [ 11.14 , 384.6  ],\n",
       "       [ 12.56 , 485.8  ],\n",
       "       [ 13.05 , 512.   ],\n",
       "       [ 13.87 , 593.7  ],\n",
       "       [  8.878, 241.   ],\n",
       "       [  9.436, 278.6  ],\n",
       "       [ 12.54 , 491.9  ],\n",
       "       [ 13.3  , 546.1  ],\n",
       "       [ 12.76 , 496.6  ],\n",
       "       [ 16.5  , 838.1  ],\n",
       "       [ 13.4  , 552.4  ],\n",
       "       [ 12.21 , 458.4  ],\n",
       "       [ 15.19 , 711.8  ],\n",
       "       [ 13.69 , 579.1  ],\n",
       "       [ 16.17 , 788.5  ],\n",
       "       [ 10.57 , 338.3  ],\n",
       "       [ 13.46 , 562.1  ],\n",
       "       [ 13.66 , 580.6  ],\n",
       "       [ 11.27 , 386.3  ],\n",
       "       [ 11.04 , 372.7  ],\n",
       "       [ 12.05 , 447.8  ],\n",
       "       [ 12.39 , 462.9  ],\n",
       "       [ 13.28 , 541.8  ],\n",
       "       [ 12.21 , 462.   ],\n",
       "       [ 13.88 , 596.6  ],\n",
       "       [ 11.27 , 392.   ],\n",
       "       [ 10.26 , 321.6  ],\n",
       "       [  8.734, 234.3  ],\n",
       "       [ 12.1  , 446.2  ],\n",
       "       [ 14.06 , 609.1  ],\n",
       "       [ 13.51 , 558.1  ],\n",
       "       [ 12.8  , 508.3  ],\n",
       "       [ 11.06 , 378.2  ],\n",
       "       [ 11.8  , 431.9  ],\n",
       "       [ 11.93 , 442.7  ],\n",
       "       [ 12.96 , 525.2  ],\n",
       "       [ 12.94 , 507.6  ],\n",
       "       [ 12.34 , 469.1  ],\n",
       "       [ 10.94 , 370.   ],\n",
       "       [ 16.14 , 800.   ],\n",
       "       [ 12.85 , 514.5  ],\n",
       "       [ 12.27 , 466.1  ],\n",
       "       [ 11.36 , 399.8  ],\n",
       "       [ 11.04 , 373.2  ],\n",
       "       [  9.397, 268.8  ],\n",
       "       [ 14.99 , 693.7  ],\n",
       "       [ 11.89 , 433.8  ],\n",
       "       [  9.405, 271.2  ],\n",
       "       [ 12.7  , 495.   ],\n",
       "       [ 11.16 , 380.3  ],\n",
       "       [ 11.57 , 409.7  ],\n",
       "       [ 14.69 , 656.1  ],\n",
       "       [ 11.61 , 408.2  ],\n",
       "       [ 13.66 , 575.3  ],\n",
       "       [  9.742, 289.7  ],\n",
       "       [ 10.03 , 307.3  ],\n",
       "       [ 10.48 , 333.6  ],\n",
       "       [ 10.8  , 359.9  ],\n",
       "       [ 11.13 , 381.1  ],\n",
       "       [ 12.72 , 501.3  ],\n",
       "       [ 12.4  , 467.8  ],\n",
       "       [ 14.86 , 673.7  ],\n",
       "       [ 12.87 , 509.2  ],\n",
       "       [ 14.04 , 611.2  ],\n",
       "       [ 13.85 , 592.6  ],\n",
       "       [ 14.02 , 606.5  ],\n",
       "       [ 10.97 , 371.5  ],\n",
       "       [ 13.78 , 585.9  ],\n",
       "       [ 10.57 , 340.9  ],\n",
       "       [ 11.99 , 441.3  ],\n",
       "       [ 14.8  , 674.8  ],\n",
       "       [ 14.53 , 659.7  ],\n",
       "       [ 11.87 , 432.   ],\n",
       "       [ 12.   , 442.5  ],\n",
       "       [ 14.53 , 644.2  ],\n",
       "       [ 12.62 , 492.9  ],\n",
       "       [ 13.38 , 557.2  ],\n",
       "       [ 11.63 , 415.1  ],\n",
       "       [ 13.21 , 537.9  ],\n",
       "       [ 13.   , 520.2  ],\n",
       "       [  9.755, 290.9  ],\n",
       "       [ 14.4  , 646.1  ],\n",
       "       [ 11.6  , 412.7  ],\n",
       "       [ 13.17 , 537.3  ],\n",
       "       [ 13.24 , 542.9  ],\n",
       "       [ 13.14 , 536.9  ],\n",
       "       [  9.668, 286.3  ],\n",
       "       [ 11.62 , 408.8  ],\n",
       "       [  9.667, 289.1  ],\n",
       "       [ 12.04 , 449.9  ],\n",
       "       [ 14.92 , 686.9  ],\n",
       "       [ 12.27 , 465.4  ],\n",
       "       [ 10.88 , 358.9  ],\n",
       "       [ 12.83 , 506.9  ],\n",
       "       [ 14.2  , 618.4  ],\n",
       "       [ 13.9  , 599.4  ],\n",
       "       [ 11.49 , 404.9  ],\n",
       "       [ 12.16 , 455.3  ],\n",
       "       [ 13.9  , 602.9  ],\n",
       "       [ 13.47 , 546.3  ],\n",
       "       [ 13.7  , 571.1  ],\n",
       "       [ 15.73 , 747.2  ],\n",
       "       [ 12.45 , 476.7  ],\n",
       "       [ 14.64 , 666.   ],\n",
       "       [ 11.68 , 420.5  ],\n",
       "       [ 12.25 , 466.5  ],\n",
       "       [ 17.85 , 992.1  ],\n",
       "       [ 12.46 , 477.3  ],\n",
       "       [ 13.16 , 538.7  ],\n",
       "       [ 14.87 , 680.9  ],\n",
       "       [ 12.65 , 485.6  ],\n",
       "       [ 12.47 , 480.1  ],\n",
       "       [ 15.04 , 689.4  ],\n",
       "       [ 12.54 , 476.3  ],\n",
       "       [  9.268, 248.7  ],\n",
       "       [  9.676, 272.5  ],\n",
       "       [ 12.22 , 453.1  ],\n",
       "       [ 11.06 , 366.5  ],\n",
       "       [ 16.3  , 819.8  ],\n",
       "       [ 11.74 , 426.   ],\n",
       "       [ 14.81 , 680.7  ],\n",
       "       [ 14.58 , 658.8  ],\n",
       "       [ 11.34 , 391.2  ],\n",
       "       [ 12.88 , 493.1  ],\n",
       "       [ 12.75 , 493.8  ],\n",
       "       [  9.295, 257.8  ],\n",
       "       [ 11.26 , 388.1  ],\n",
       "       [ 13.71 , 571.   ],\n",
       "       [  9.847, 293.2  ],\n",
       "       [  8.571, 221.3  ],\n",
       "       [ 13.46 , 551.1  ],\n",
       "       [ 12.34 , 468.5  ],\n",
       "       [ 13.94 , 594.2  ],\n",
       "       [ 12.07 , 445.2  ],\n",
       "       [ 11.75 , 422.9  ],\n",
       "       [ 11.67 , 416.2  ],\n",
       "       [ 13.68 , 575.5  ],\n",
       "       [ 10.96 , 365.6  ],\n",
       "       [ 11.69 , 406.4  ],\n",
       "       [  7.729, 178.8  ],\n",
       "       [  7.691, 170.4  ],\n",
       "       [ 11.54 , 402.9  ],\n",
       "       [ 14.47 , 656.4  ],\n",
       "       [ 14.74 , 668.6  ],\n",
       "       [ 13.21 , 538.4  ],\n",
       "       [ 13.87 , 584.8  ],\n",
       "       [ 13.62 , 573.2  ],\n",
       "       [ 10.32 , 324.9  ],\n",
       "       [ 10.26 , 320.8  ],\n",
       "       [  9.683, 285.7  ],\n",
       "       [ 10.82 , 361.6  ],\n",
       "       [ 10.86 , 360.5  ],\n",
       "       [ 11.13 , 378.4  ],\n",
       "       [ 12.77 , 507.9  ],\n",
       "       [  9.333, 264.   ],\n",
       "       [ 12.88 , 514.3  ],\n",
       "       [ 10.29 , 321.4  ],\n",
       "       [ 10.16 , 311.7  ],\n",
       "       [  9.423, 271.3  ],\n",
       "       [ 14.59 , 657.1  ],\n",
       "       [ 11.51 , 403.5  ],\n",
       "       [ 14.05 , 600.4  ],\n",
       "       [ 11.2  , 386.   ],\n",
       "       [  7.76 , 181.   ]])"
      ]
     },
     "execution_count": 4,
     "metadata": {},
     "output_type": "execute_result"
    }
   ],
   "source": [
    "labels=breast_cancer.target_names[breast_cancer.target]\n",
    "\n",
    "\n",
    "bad_breast_radius=data[labels=='malignant',0]\n",
    "bad_breast_area=data[labels=='malignant',3]\n",
    "bad_breast=np.c_[bad_breast_radius,bad_breast_area]\n",
    "bad_breast\n",
    "\n",
    "good_breast_radius=data[labels=='benign',0]\n",
    "good_breast_area=data[labels=='benign',3]\n",
    "good_breast=np.c_[good_breast_radius,good_breast_area]\n",
    "good_breast\n",
    "\n",
    "# labels"
   ]
  },
  {
   "cell_type": "code",
   "execution_count": 6,
   "metadata": {},
   "outputs": [
    {
     "data": {
      "text/plain": [
       "<matplotlib.collections.PathCollection at 0x21b4154bb80>"
      ]
     },
     "execution_count": 6,
     "metadata": {},
     "output_type": "execute_result"
    },
    {
     "data": {
      "image/png": "[encoded data removed]",
      "text/plain": [
       "<Figure size 432x288 with 1 Axes>"
      ]
     },
     "metadata": {
      "needs_background": "light"
     },
     "output_type": "display_data"
    }
   ],
   "source": [
    "plt.scatter(bad_breast[:,0],bad_breast[:,1],color='red')\n",
    "plt.scatter(good_breast[:,0],good_breast[:,1],color='blue')"
   ]
  },
  {
   "cell_type": "code",
   "execution_count": 7,
   "metadata": {},
   "outputs": [],
   "source": [
    "X=np.r_[bad_breast, good_breast]\n",
    "y=np.r_[np.zeros(len(bad_breast)),np.ones(len(good_breast))]"
   ]
  },
  {
   "cell_type": "markdown",
   "metadata": {},
   "source": [
    "## Step2. 區分訓練集與測試集"
   ]
  },
  {
   "cell_type": "code",
   "execution_count": 8,
   "metadata": {},
   "outputs": [],
   "source": [
    "X_train, X_test, y_train, y_test = train_test_split(X, y,test_size=0.3,random_state=0)"
   ]
  },
  {
   "cell_type": "markdown",
   "metadata": {},
   "source": [
    "## Step3. 建模"
   ]
  },
  {
   "cell_type": "code",
   "execution_count": 11,
   "metadata": {},
   "outputs": [
    {
     "data": {
      "text/plain": [
       "SVC(C=10, gamma='auto')"
      ]
     },
     "execution_count": 11,
     "metadata": {},
     "output_type": "execute_result"
    }
   ],
   "source": [
    "clf=svm.SVC(kernel='rbf',gamma='auto',C=10)\n",
    "clf.fit(X_train,y_train)"
   ]
  },
  {
   "cell_type": "code",
   "execution_count": 10,
   "metadata": {},
   "outputs": [
    {
     "name": "stderr",
     "output_type": "stream",
     "text": [
      "D:\\anaconda\\lib\\site-packages\\sklearn\\svm\\_base.py:985: ConvergenceWarning: Liblinear failed to converge, increase the number of iterations.\n",
      "  warnings.warn(\"Liblinear failed to converge, increase \"\n"
     ]
    },
    {
     "data": {
      "text/plain": [
       "LinearSVC()"
      ]
     },
     "execution_count": 10,
     "metadata": {},
     "output_type": "execute_result"
    }
   ],
   "source": [
    "clf2=svm.LinearSVC()\n",
    "clf2.fit(X_train,y_train)"
   ]
  },
  {
   "cell_type": "code",
   "execution_count": 12,
   "metadata": {},
   "outputs": [],
   "source": [
    "def SVM_plot(clf,title):\n",
    "    training_x_min=X[:,0].min()-1\n",
    "    training_x_max=X[:,0].max()+1\n",
    "    training_y_min=X[:,1].min()-1\n",
    "    training_y_max=X[:,1].max()+1\n",
    "    grid_interval=0.02\n",
    "    xx,yy=np.meshgrid(np.arange(training_x_min,training_x_max,grid_interval),np.arange(training_y_min,training_y_max,grid_interval))\n",
    "    \n",
    "    Z=clf2.predict(np.c_[xx.ravel(),yy.ravel()])\n",
    "    Z=Z.reshape(xx.shape)\n",
    "    plt.contourf(xx,yy,Z,cmap=plt.cm.bone,alpha=0.2)\n",
    "    plt.autoscale()\n",
    "    plt.grid()\n",
    "    plt.scatter(good_breast[:,0],good_breast[:,1],color='red')\n",
    "    plt.scatter(bad_breast[:,0],bad_breast[:,1],color='blue')\n",
    "    plt.title(title)\n",
    "    plt.show()"
   ]
  },
  {
   "cell_type": "code",
   "execution_count": 13,
   "metadata": {},
   "outputs": [
    {
     "ename": "KeyboardInterrupt",
     "evalue": "",
     "output_type": "error",
     "traceback": [
      "\u001b[1;31m---------------------------------------------------------------------------\u001b[0m",
      "\u001b[1;31mKeyboardInterrupt\u001b[0m                         Traceback (most recent call last)",
      "\u001b[1;32m<ipython-input-13-87fd3694b738>\u001b[0m in \u001b[0;36m<module>\u001b[1;34m\u001b[0m\n\u001b[1;32m----> 1\u001b[1;33m \u001b[0mSVM_plot\u001b[0m\u001b[1;33m(\u001b[0m\u001b[0mclf2\u001b[0m\u001b[1;33m,\u001b[0m\u001b[1;34m'rbf'\u001b[0m\u001b[1;33m)\u001b[0m\u001b[1;33m\u001b[0m\u001b[1;33m\u001b[0m\u001b[0m\n\u001b[0m",
      "\u001b[1;32m<ipython-input-12-648800a04140>\u001b[0m in \u001b[0;36mSVM_plot\u001b[1;34m(clf, title)\u001b[0m\n\u001b[0;32m      9\u001b[0m     \u001b[0mZ\u001b[0m\u001b[1;33m=\u001b[0m\u001b[0mclf2\u001b[0m\u001b[1;33m.\u001b[0m\u001b[0mpredict\u001b[0m\u001b[1;33m(\u001b[0m\u001b[0mnp\u001b[0m\u001b[1;33m.\u001b[0m\u001b[0mc_\u001b[0m\u001b[1;33m[\u001b[0m\u001b[0mxx\u001b[0m\u001b[1;33m.\u001b[0m\u001b[0mravel\u001b[0m\u001b[1;33m(\u001b[0m\u001b[1;33m)\u001b[0m\u001b[1;33m,\u001b[0m\u001b[0myy\u001b[0m\u001b[1;33m.\u001b[0m\u001b[0mravel\u001b[0m\u001b[1;33m(\u001b[0m\u001b[1;33m)\u001b[0m\u001b[1;33m]\u001b[0m\u001b[1;33m)\u001b[0m\u001b[1;33m\u001b[0m\u001b[1;33m\u001b[0m\u001b[0m\n\u001b[0;32m     10\u001b[0m     \u001b[0mZ\u001b[0m\u001b[1;33m=\u001b[0m\u001b[0mZ\u001b[0m\u001b[1;33m.\u001b[0m\u001b[0mreshape\u001b[0m\u001b[1;33m(\u001b[0m\u001b[0mxx\u001b[0m\u001b[1;33m.\u001b[0m\u001b[0mshape\u001b[0m\u001b[1;33m)\u001b[0m\u001b[1;33m\u001b[0m\u001b[1;33m\u001b[0m\u001b[0m\n\u001b[1;32m---> 11\u001b[1;33m     \u001b[0mplt\u001b[0m\u001b[1;33m.\u001b[0m\u001b[0mcontourf\u001b[0m\u001b[1;33m(\u001b[0m\u001b[0mxx\u001b[0m\u001b[1;33m,\u001b[0m\u001b[0myy\u001b[0m\u001b[1;33m,\u001b[0m\u001b[0mZ\u001b[0m\u001b[1;33m,\u001b[0m\u001b[0mcmap\u001b[0m\u001b[1;33m=\u001b[0m\u001b[0mplt\u001b[0m\u001b[1;33m.\u001b[0m\u001b[0mcm\u001b[0m\u001b[1;33m.\u001b[0m\u001b[0mbone\u001b[0m\u001b[1;33m,\u001b[0m\u001b[0malpha\u001b[0m\u001b[1;33m=\u001b[0m\u001b[1;36m0.2\u001b[0m\u001b[1;33m)\u001b[0m\u001b[1;33m\u001b[0m\u001b[1;33m\u001b[0m\u001b[0m\n\u001b[0m\u001b[0;32m     12\u001b[0m     \u001b[0mplt\u001b[0m\u001b[1;33m.\u001b[0m\u001b[0mautoscale\u001b[0m\u001b[1;33m(\u001b[0m\u001b[1;33m)\u001b[0m\u001b[1;33m\u001b[0m\u001b[1;33m\u001b[0m\u001b[0m\n\u001b[0;32m     13\u001b[0m     \u001b[0mplt\u001b[0m\u001b[1;33m.\u001b[0m\u001b[0mgrid\u001b[0m\u001b[1;33m(\u001b[0m\u001b[1;33m)\u001b[0m\u001b[1;33m\u001b[0m\u001b[1;33m\u001b[0m\u001b[0m\n",
      "\u001b[1;32mD:\\anaconda\\lib\\site-packages\\matplotlib\\pyplot.py\u001b[0m in \u001b[0;36mcontourf\u001b[1;34m(data, *args, **kwargs)\u001b[0m\n\u001b[0;32m   2575\u001b[0m \u001b[1;33m@\u001b[0m\u001b[0m_copy_docstring_and_deprecators\u001b[0m\u001b[1;33m(\u001b[0m\u001b[0mAxes\u001b[0m\u001b[1;33m.\u001b[0m\u001b[0mcontourf\u001b[0m\u001b[1;33m)\u001b[0m\u001b[1;33m\u001b[0m\u001b[1;33m\u001b[0m\u001b[0m\n\u001b[0;32m   2576\u001b[0m \u001b[1;32mdef\u001b[0m \u001b[0mcontourf\u001b[0m\u001b[1;33m(\u001b[0m\u001b[1;33m*\u001b[0m\u001b[0margs\u001b[0m\u001b[1;33m,\u001b[0m \u001b[0mdata\u001b[0m\u001b[1;33m=\u001b[0m\u001b[1;32mNone\u001b[0m\u001b[1;33m,\u001b[0m \u001b[1;33m**\u001b[0m\u001b[0mkwargs\u001b[0m\u001b[1;33m)\u001b[0m\u001b[1;33m:\u001b[0m\u001b[1;33m\u001b[0m\u001b[1;33m\u001b[0m\u001b[0m\n\u001b[1;32m-> 2577\u001b[1;33m     __ret = gca().contourf(\n\u001b[0m\u001b[0;32m   2578\u001b[0m         \u001b[1;33m*\u001b[0m\u001b[0margs\u001b[0m\u001b[1;33m,\u001b[0m \u001b[1;33m**\u001b[0m\u001b[1;33m(\u001b[0m\u001b[1;33m{\u001b[0m\u001b[1;34m\"data\"\u001b[0m\u001b[1;33m:\u001b[0m \u001b[0mdata\u001b[0m\u001b[1;33m}\u001b[0m \u001b[1;32mif\u001b[0m \u001b[0mdata\u001b[0m \u001b[1;32mis\u001b[0m \u001b[1;32mnot\u001b[0m \u001b[1;32mNone\u001b[0m \u001b[1;32melse\u001b[0m \u001b[1;33m{\u001b[0m\u001b[1;33m}\u001b[0m\u001b[1;33m)\u001b[0m\u001b[1;33m,\u001b[0m\u001b[1;33m\u001b[0m\u001b[1;33m\u001b[0m\u001b[0m\n\u001b[0;32m   2579\u001b[0m         **kwargs)\n",
      "\u001b[1;32mD:\\anaconda\\lib\\site-packages\\matplotlib\\__init__.py\u001b[0m in \u001b[0;36minner\u001b[1;34m(ax, data, *args, **kwargs)\u001b[0m\n\u001b[0;32m   1445\u001b[0m     \u001b[1;32mdef\u001b[0m \u001b[0minner\u001b[0m\u001b[1;33m(\u001b[0m\u001b[0max\u001b[0m\u001b[1;33m,\u001b[0m \u001b[1;33m*\u001b[0m\u001b[0margs\u001b[0m\u001b[1;33m,\u001b[0m \u001b[0mdata\u001b[0m\u001b[1;33m=\u001b[0m\u001b[1;32mNone\u001b[0m\u001b[1;33m,\u001b[0m \u001b[1;33m**\u001b[0m\u001b[0mkwargs\u001b[0m\u001b[1;33m)\u001b[0m\u001b[1;33m:\u001b[0m\u001b[1;33m\u001b[0m\u001b[1;33m\u001b[0m\u001b[0m\n\u001b[0;32m   1446\u001b[0m         \u001b[1;32mif\u001b[0m \u001b[0mdata\u001b[0m \u001b[1;32mis\u001b[0m \u001b[1;32mNone\u001b[0m\u001b[1;33m:\u001b[0m\u001b[1;33m\u001b[0m\u001b[1;33m\u001b[0m\u001b[0m\n\u001b[1;32m-> 1447\u001b[1;33m             \u001b[1;32mreturn\u001b[0m \u001b[0mfunc\u001b[0m\u001b[1;33m(\u001b[0m\u001b[0max\u001b[0m\u001b[1;33m,\u001b[0m \u001b[1;33m*\u001b[0m\u001b[0mmap\u001b[0m\u001b[1;33m(\u001b[0m\u001b[0msanitize_sequence\u001b[0m\u001b[1;33m,\u001b[0m \u001b[0margs\u001b[0m\u001b[1;33m)\u001b[0m\u001b[1;33m,\u001b[0m \u001b[1;33m**\u001b[0m\u001b[0mkwargs\u001b[0m\u001b[1;33m)\u001b[0m\u001b[1;33m\u001b[0m\u001b[1;33m\u001b[0m\u001b[0m\n\u001b[0m\u001b[0;32m   1448\u001b[0m \u001b[1;33m\u001b[0m\u001b[0m\n\u001b[0;32m   1449\u001b[0m         \u001b[0mbound\u001b[0m \u001b[1;33m=\u001b[0m \u001b[0mnew_sig\u001b[0m\u001b[1;33m.\u001b[0m\u001b[0mbind\u001b[0m\u001b[1;33m(\u001b[0m\u001b[0max\u001b[0m\u001b[1;33m,\u001b[0m \u001b[1;33m*\u001b[0m\u001b[0margs\u001b[0m\u001b[1;33m,\u001b[0m \u001b[1;33m**\u001b[0m\u001b[0mkwargs\u001b[0m\u001b[1;33m)\u001b[0m\u001b[1;33m\u001b[0m\u001b[1;33m\u001b[0m\u001b[0m\n",
      "\u001b[1;32mD:\\anaconda\\lib\\site-packages\\matplotlib\\axes\\_axes.py\u001b[0m in \u001b[0;36mcontourf\u001b[1;34m(self, *args, **kwargs)\u001b[0m\n\u001b[0;32m   6333\u001b[0m     \u001b[1;32mdef\u001b[0m \u001b[0mcontourf\u001b[0m\u001b[1;33m(\u001b[0m\u001b[0mself\u001b[0m\u001b[1;33m,\u001b[0m \u001b[1;33m*\u001b[0m\u001b[0margs\u001b[0m\u001b[1;33m,\u001b[0m \u001b[1;33m**\u001b[0m\u001b[0mkwargs\u001b[0m\u001b[1;33m)\u001b[0m\u001b[1;33m:\u001b[0m\u001b[1;33m\u001b[0m\u001b[1;33m\u001b[0m\u001b[0m\n\u001b[0;32m   6334\u001b[0m         \u001b[0mkwargs\u001b[0m\u001b[1;33m[\u001b[0m\u001b[1;34m'filled'\u001b[0m\u001b[1;33m]\u001b[0m \u001b[1;33m=\u001b[0m \u001b[1;32mTrue\u001b[0m\u001b[1;33m\u001b[0m\u001b[1;33m\u001b[0m\u001b[0m\n\u001b[1;32m-> 6335\u001b[1;33m         \u001b[0mcontours\u001b[0m \u001b[1;33m=\u001b[0m \u001b[0mmcontour\u001b[0m\u001b[1;33m.\u001b[0m\u001b[0mQuadContourSet\u001b[0m\u001b[1;33m(\u001b[0m\u001b[0mself\u001b[0m\u001b[1;33m,\u001b[0m \u001b[1;33m*\u001b[0m\u001b[0margs\u001b[0m\u001b[1;33m,\u001b[0m \u001b[1;33m**\u001b[0m\u001b[0mkwargs\u001b[0m\u001b[1;33m)\u001b[0m\u001b[1;33m\u001b[0m\u001b[1;33m\u001b[0m\u001b[0m\n\u001b[0m\u001b[0;32m   6336\u001b[0m         \u001b[0mself\u001b[0m\u001b[1;33m.\u001b[0m\u001b[0m_request_autoscale_view\u001b[0m\u001b[1;33m(\u001b[0m\u001b[1;33m)\u001b[0m\u001b[1;33m\u001b[0m\u001b[1;33m\u001b[0m\u001b[0m\n\u001b[0;32m   6337\u001b[0m         \u001b[1;32mreturn\u001b[0m \u001b[0mcontours\u001b[0m\u001b[1;33m\u001b[0m\u001b[1;33m\u001b[0m\u001b[0m\n",
      "\u001b[1;32mD:\\anaconda\\lib\\site-packages\\matplotlib\\contour.py\u001b[0m in \u001b[0;36m__init__\u001b[1;34m(self, ax, levels, filled, linewidths, linestyles, hatches, alpha, origin, extent, cmap, colors, norm, vmin, vmax, extend, antialiased, nchunk, locator, transform, *args, **kwargs)\u001b[0m\n\u001b[0;32m    865\u001b[0m         \u001b[0mself\u001b[0m\u001b[1;33m.\u001b[0m\u001b[0m_process_colors\u001b[0m\u001b[1;33m(\u001b[0m\u001b[1;33m)\u001b[0m\u001b[1;33m\u001b[0m\u001b[1;33m\u001b[0m\u001b[0m\n\u001b[0;32m    866\u001b[0m \u001b[1;33m\u001b[0m\u001b[0m\n\u001b[1;32m--> 867\u001b[1;33m         \u001b[0mself\u001b[0m\u001b[1;33m.\u001b[0m\u001b[0mallsegs\u001b[0m\u001b[1;33m,\u001b[0m \u001b[0mself\u001b[0m\u001b[1;33m.\u001b[0m\u001b[0mallkinds\u001b[0m \u001b[1;33m=\u001b[0m \u001b[0mself\u001b[0m\u001b[1;33m.\u001b[0m\u001b[0m_get_allsegs_and_allkinds\u001b[0m\u001b[1;33m(\u001b[0m\u001b[1;33m)\u001b[0m\u001b[1;33m\u001b[0m\u001b[1;33m\u001b[0m\u001b[0m\n\u001b[0m\u001b[0;32m    868\u001b[0m \u001b[1;33m\u001b[0m\u001b[0m\n\u001b[0;32m    869\u001b[0m         \u001b[1;32mif\u001b[0m \u001b[0mself\u001b[0m\u001b[1;33m.\u001b[0m\u001b[0mfilled\u001b[0m\u001b[1;33m:\u001b[0m\u001b[1;33m\u001b[0m\u001b[1;33m\u001b[0m\u001b[0m\n",
      "\u001b[1;32mD:\\anaconda\\lib\\site-packages\\matplotlib\\contour.py\u001b[0m in \u001b[0;36m_get_allsegs_and_allkinds\u001b[1;34m(self)\u001b[0m\n\u001b[0;32m   1463\u001b[0m             \u001b[0mallkinds\u001b[0m \u001b[1;33m=\u001b[0m \u001b[1;33m[\u001b[0m\u001b[1;33m]\u001b[0m\u001b[1;33m\u001b[0m\u001b[1;33m\u001b[0m\u001b[0m\n\u001b[0;32m   1464\u001b[0m             \u001b[1;32mfor\u001b[0m \u001b[0mlevel\u001b[0m\u001b[1;33m,\u001b[0m \u001b[0mlevel_upper\u001b[0m \u001b[1;32min\u001b[0m \u001b[0mzip\u001b[0m\u001b[1;33m(\u001b[0m\u001b[0mlowers\u001b[0m\u001b[1;33m,\u001b[0m \u001b[0muppers\u001b[0m\u001b[1;33m)\u001b[0m\u001b[1;33m:\u001b[0m\u001b[1;33m\u001b[0m\u001b[1;33m\u001b[0m\u001b[0m\n\u001b[1;32m-> 1465\u001b[1;33m                 \u001b[0mvertices\u001b[0m\u001b[1;33m,\u001b[0m \u001b[0mkinds\u001b[0m \u001b[1;33m=\u001b[0m\u001b[0;31m \u001b[0m\u001b[0;31m\\\u001b[0m\u001b[1;33m\u001b[0m\u001b[1;33m\u001b[0m\u001b[0m\n\u001b[0m\u001b[0;32m   1466\u001b[0m                     self._contour_generator.create_filled_contour(\n\u001b[0;32m   1467\u001b[0m                         level, level_upper)\n",
      "\u001b[1;31mKeyboardInterrupt\u001b[0m: "
     ]
    },
    {
     "data": {
      "image/png": "[encoded data removed]",
      "text/plain": [
       "<Figure size 432x288 with 1 Axes>"
      ]
     },
     "metadata": {
      "needs_background": "light"
     },
     "output_type": "display_data"
    }
   ],
   "source": [
    "SVM_plot(clf2,'rbf')"
   ]
  },
  {
   "cell_type": "code",
   "execution_count": 21,
   "metadata": {},
   "outputs": [
    {
     "ename": "NameError",
     "evalue": "name 'title' is not defined",
     "output_type": "error",
     "traceback": [
      "\u001b[1;31m---------------------------------------------------------------------------\u001b[0m",
      "\u001b[1;31mNameError\u001b[0m                                 Traceback (most recent call last)",
      "\u001b[1;32m<ipython-input-21-f75f047dd7ec>\u001b[0m in \u001b[0;36m<module>\u001b[1;34m\u001b[0m\n\u001b[0;32m     13\u001b[0m \u001b[0mplt\u001b[0m\u001b[1;33m.\u001b[0m\u001b[0mscatter\u001b[0m\u001b[1;33m(\u001b[0m\u001b[0mgood_breast\u001b[0m\u001b[1;33m[\u001b[0m\u001b[1;33m:\u001b[0m\u001b[1;33m,\u001b[0m\u001b[1;36m0\u001b[0m\u001b[1;33m]\u001b[0m\u001b[1;33m,\u001b[0m\u001b[0mgood_breast\u001b[0m\u001b[1;33m[\u001b[0m\u001b[1;33m:\u001b[0m\u001b[1;33m,\u001b[0m\u001b[1;36m1\u001b[0m\u001b[1;33m]\u001b[0m\u001b[1;33m,\u001b[0m\u001b[0mcolor\u001b[0m\u001b[1;33m=\u001b[0m\u001b[1;34m'red'\u001b[0m\u001b[1;33m)\u001b[0m\u001b[1;33m\u001b[0m\u001b[1;33m\u001b[0m\u001b[0m\n\u001b[0;32m     14\u001b[0m \u001b[0mplt\u001b[0m\u001b[1;33m.\u001b[0m\u001b[0mscatter\u001b[0m\u001b[1;33m(\u001b[0m\u001b[0mbad_breast\u001b[0m\u001b[1;33m[\u001b[0m\u001b[1;33m:\u001b[0m\u001b[1;33m,\u001b[0m\u001b[1;36m0\u001b[0m\u001b[1;33m]\u001b[0m\u001b[1;33m,\u001b[0m\u001b[0mbad_breast\u001b[0m\u001b[1;33m[\u001b[0m\u001b[1;33m:\u001b[0m\u001b[1;33m,\u001b[0m\u001b[1;36m1\u001b[0m\u001b[1;33m]\u001b[0m\u001b[1;33m,\u001b[0m\u001b[0mcolor\u001b[0m\u001b[1;33m=\u001b[0m\u001b[1;34m'blue'\u001b[0m\u001b[1;33m)\u001b[0m\u001b[1;33m\u001b[0m\u001b[1;33m\u001b[0m\u001b[0m\n\u001b[1;32m---> 15\u001b[1;33m \u001b[0mplt\u001b[0m\u001b[1;33m.\u001b[0m\u001b[0mtitle\u001b[0m\u001b[1;33m(\u001b[0m\u001b[0mtitle\u001b[0m\u001b[1;33m)\u001b[0m\u001b[1;33m\u001b[0m\u001b[1;33m\u001b[0m\u001b[0m\n\u001b[0m\u001b[0;32m     16\u001b[0m \u001b[0mplt\u001b[0m\u001b[1;33m.\u001b[0m\u001b[0mshow\u001b[0m\u001b[1;33m(\u001b[0m\u001b[1;33m)\u001b[0m\u001b[1;33m\u001b[0m\u001b[1;33m\u001b[0m\u001b[0m\n",
      "\u001b[1;31mNameError\u001b[0m: name 'title' is not defined"
     ]
    },
    {
     "data": {
      "image/png": "[encoded data removed]",
      "text/plain": [
       "<Figure size 432x288 with 1 Axes>"
      ]
     },
     "metadata": {
      "needs_background": "light"
     },
     "output_type": "display_data"
    }
   ],
   "source": [
    "    training_x_min=X[:,0].min()-1\n",
    "    training_x_max=X[:,0].max()+1\n",
    "    training_y_min=X[:,1].min()-1\n",
    "    training_y_max=X[:,1].max()+1\n",
    "    grid_interval=0.02\n",
    "    xx,yy=np.meshgrid(np.arange(training_x_min,training_x_max,grid_interval),np.arange(training_y_min,training_y_max,grid_interval))\n",
    "    \n",
    "    Z=clf2.predict(np.c_[xx.ravel(),yy.ravel()])\n",
    "    Z=Z.reshape(xx.shape)\n",
    "    plt.contourf(xx,yy,Z,cmap=plt.cm.bone,alpha=0.2)\n",
    "    plt.autoscale()\n",
    "    plt.grid()\n",
    "    plt.scatter(good_breast[:,0],good_breast[:,1],color='red')\n",
    "    plt.scatter(bad_breast[:,0],bad_breast[:,1],color='blue')\n",
    "#     plt.title(title)\n",
    "    plt.show()"
   ]
  },
  {
   "cell_type": "code",
   "execution_count": 22,
   "metadata": {},
   "outputs": [
    {
     "data": {
      "text/plain": [
       "<matplotlib.collections.PathCollection at 0x21bc7677be0>"
      ]
     },
     "execution_count": 22,
     "metadata": {},
     "output_type": "execute_result"
    },
    {
     "data": {
      "image/png": "[encoded data removed]",
      "text/plain": [
       "<Figure size 432x288 with 1 Axes>"
      ]
     },
     "metadata": {
      "needs_background": "light"
     },
     "output_type": "display_data"
    }
   ],
   "source": [
    "    plt.scatter(good_breast[:,0],good_breast[:,1],color='red')\n",
    "    plt.scatter(bad_breast[:,0],bad_breast[:,1],color='blue')"
   ]
  },
  {
   "cell_type": "markdown",
   "metadata": {},
   "source": [
    "## Step4. 預測\n",
    "\n",
    "```\n",
    "\n",
    "```\n"
   ]
  },
  {
   "cell_type": "code",
   "execution_count": 48,
   "metadata": {},
   "outputs": [
    {
     "data": {
      "text/plain": [
       "array([1., 1., 1., 1., 1., 1., 1., 1., 1., 1., 1., 1., 1., 1., 1., 1., 1.,\n",
       "       1., 1., 1., 1., 1., 1., 1., 1., 1., 0., 1., 1., 1., 1., 1., 1., 1.,\n",
       "       1., 1., 1., 1., 1., 1., 1., 1., 1., 1., 1., 1., 1., 1., 1., 1., 1.,\n",
       "       1., 1., 1., 1., 1., 1., 1., 1., 1., 0., 1., 1., 1., 1., 1., 1., 1.,\n",
       "       1., 1., 1., 1., 1., 1., 1., 1., 1., 1., 1., 1., 1., 1., 1., 1., 1.,\n",
       "       1., 1., 1., 1., 1., 1., 1., 1., 1., 1., 1., 1., 1., 1., 1., 1., 1.,\n",
       "       1., 1., 1., 1., 1., 1., 1., 1., 1., 1., 1., 1., 1., 1., 1., 1., 1.,\n",
       "       1., 1., 1., 1., 1., 1., 1., 1., 1., 1., 1., 1., 1., 1., 0., 1., 1.,\n",
       "       1., 1., 1., 1., 1., 1., 1., 1., 1., 1., 1., 1., 1., 1., 1., 1., 1.,\n",
       "       1., 1., 1., 1., 1., 1., 1., 1., 1., 1., 1., 1., 1., 1., 1., 1., 1.,\n",
       "       1.])"
      ]
     },
     "execution_count": 48,
     "metadata": {},
     "output_type": "execute_result"
    }
   ],
   "source": [
    "clf.predict(X_test)\n",
    "clf2.predict(X_test)"
   ]
  },
  {
   "cell_type": "markdown",
   "metadata": {},
   "source": [
    "## Step5. 準確度分析"
   ]
  },
  {
   "cell_type": "code",
   "execution_count": 50,
   "metadata": {},
   "outputs": [
    {
     "name": "stdout",
     "output_type": "stream",
     "text": [
      "0.9773869346733668\n",
      "0.6432748538011696\n",
      "________________________\n",
      "0.6507537688442211\n",
      "0.6900584795321637\n"
     ]
    }
   ],
   "source": [
    "print(clf.score(X_train,y_train))\n",
    "print(clf.score(X_test, y_test))\n",
    "print(\"________________________\")\n",
    "print(clf2.score(X_train,y_train))\n",
    "print(clf2.score(X_test, y_test))"
   ]
  },
  {
   "cell_type": "code",
   "execution_count": null,
   "metadata": {},
   "outputs": [],
   "source": [
    "##linear效果不佳，可能須嘗試其他特徵或方法"
   ]
  }
 ],
 "metadata": {
  "kernelspec": {
   "display_name": "Python 3",
   "language": "python",
   "name": "python3"
  },
  "language_info": {
   "codemirror_mode": {
    "name": "ipython",
    "version": 3
   },
   "file_extension": ".py",
   "mimetype": "text/x-python",
   "name": "python",
   "nbconvert_exporter": "python",
   "pygments_lexer": "ipython3",
   "version": "3.8.8"
  }
 },
 "nbformat": 4,
 "nbformat_minor": 4
}
